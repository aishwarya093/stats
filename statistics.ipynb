{
  "nbformat": 4,
  "nbformat_minor": 0,
  "metadata": {
    "colab": {
      "provenance": []
    },
    "kernelspec": {
      "name": "python3",
      "display_name": "Python 3"
    },
    "language_info": {
      "name": "python"
    }
  },
  "cells": [
    {
      "cell_type": "code",
      "execution_count": 1,
      "metadata": {
        "id": "slpvO6VXE7Bo"
      },
      "outputs": [],
      "source": [
        "#1.  Explain the different types of data (qualitative and quantitative) and provide examples of each. Discuss\n",
        "# nominal, ordinal, interval, and ratio scales\n",
        "\n",
        "# Types of Data\n",
        "# Qualitative Data: Non-numeric information describing categories or qualities.\n",
        "\n",
        "# Examples:\n",
        "# Nominal: Gender (Male/Female), Colors (Red, Blue).\n",
        "# Ordinal: Education Level (High School, Bachelor's, Master's).\n",
        "# Quantitative Data: Numeric information used for measurements or counts.\n",
        "\n",
        "# Examples:\n",
        "# Interval: Temperature in Celsius or Fahrenheit (no true zero).\n",
        "# Ratio: Height, Weight, Age (has a meaningful zero)"
      ]
    },
    {
      "cell_type": "code",
      "source": [
        "# 2. What are the measures of central tendency, and when should you use each? Discuss the mean, median,\n",
        "# and mode with examples and situations where each is appropriate.\n",
        "\n",
        "# Mean: Average of all values.\n",
        "# Use case: When data has no outliers.\n",
        "# Median: Middle value when data is ordered.\n",
        "# Use case: When data has outliers.\n",
        "# Mode: Most frequently occurring value.\n",
        "# Use case: For categorical data or identifying frequent occurrences\n",
        "\n",
        "\n",
        "Data: {1, 2, 2, 3, 4}\n",
        "Mean = 2.4, Median = 2, Mode = 2."
      ],
      "metadata": {
        "id": "zR1nRGUtGZgP"
      },
      "execution_count": 6,
      "outputs": []
    },
    {
      "cell_type": "code",
      "source": [
        "# 3. Explain the concept of dispersion. How do variance and standard deviation measure the spread of data?\n",
        "\n",
        "# Dispersion shows the spread of data points around a central value.\n",
        "\n",
        "# Variance: Average squared deviation from the mean.\n",
        "# Standard Deviation: Square root of variance, indicating average deviation.\n",
        "# Example: Low SD = values close to the mean; High SD = values spread out."
      ],
      "metadata": {
        "id": "faJ-Q4uFGtXt"
      },
      "execution_count": 5,
      "outputs": []
    },
    {
      "cell_type": "code",
      "source": [
        "# 4.What is a box plot, and what can it tell you about the distribution of data?\n",
        "\n",
        "# Box plot is a graphical representation of data distribution.\n",
        "\n",
        "# Key Components: Minimum, Q1, Median, Q3, Maximum.\n",
        "# Insights:\n",
        "# Detects skewness and outliers.\n",
        "# Shows data spread and symmetry."
      ],
      "metadata": {
        "id": "F51_aegyG82c"
      },
      "execution_count": 7,
      "outputs": []
    },
    {
      "cell_type": "code",
      "source": [
        "# 5. Discuss the role of random sampling in making inferences about populations.\n",
        "\n",
        "# Random sampling ensures each member of a population has an equal chance of selection.\n",
        "\n",
        "# Role:\n",
        "# Reduces bias.\n",
        "# Facilitates inferences about a population.\n",
        "# Ensures representativeness."
      ],
      "metadata": {
        "id": "nuZXFcRxHWYw"
      },
      "execution_count": 8,
      "outputs": []
    },
    {
      "cell_type": "code",
      "source": [
        "#6. Explain the concept of skewness and its types. How does skewness affect the interpretation of data?\n",
        "\n",
        "# Measures the asymmetry of data distribution.\n",
        "\n",
        "# Types:\n",
        "# Positive Skew: Tail on the right (mean > median).\n",
        "# Negative Skew: Tail on the left (mean < median).\n",
        "# Symmetric: No skew (mean = median).\n",
        "# Effect: Impacts mean as a measure of central tendency.\n",
        "\n"
      ],
      "metadata": {
        "id": "kUwezOLpHlQz"
      },
      "execution_count": 9,
      "outputs": []
    },
    {
      "cell_type": "code",
      "source": [
        "# 8. Discuss the conditions under which the binomial distribution is used?\n",
        "\n",
        "# Conditions:\n",
        "\n",
        "# Fixed number of trials.\n",
        "# Two outcomes (success/failure).\n",
        "# Constant probability of success.\n",
        "# Example: Tossing a coin 10 times."
      ],
      "metadata": {
        "id": "yksbUPU-Huv4"
      },
      "execution_count": 10,
      "outputs": []
    },
    {
      "cell_type": "code",
      "source": [
        "# 9.Explain the properties of the normal distribution and the empirical rule (68-95-99.7 rule).\n",
        "\n",
        "# Properties:\n",
        "\n",
        "# Bell-shaped curve.\n",
        "# Symmetric around the mean.\n",
        "# Mean = Median = Mode.\n"
      ],
      "metadata": {
        "id": "BAsoBsTHIC2D"
      },
      "execution_count": 11,
      "outputs": []
    },
    {
      "cell_type": "code",
      "source": [
        "# 11. Explain what a random variable is and differentiate between discrete and continuous random variables\n",
        "\n",
        "# Discrete: Countable outcomes (e.g., dice roll).\n",
        "# Continuous: Infinite outcomes (e.g., height, weight).\n"
      ],
      "metadata": {
        "id": "uZaQR86HINCB"
      },
      "execution_count": 12,
      "outputs": []
    },
    {
      "cell_type": "code",
      "source": [
        "# 12. Provide an example dataset, calculate both covariance and correlation, and interpret the results\n",
        "\n",
        "# Dataset:\n",
        "# X = {2, 3, 4}, Y = {5, 6, 7}\n",
        "\n",
        "# Covariance = 1.\n",
        "# Correlation = 1.\n",
        "# Interpretation: Perfect positive linear relationship."
      ],
      "metadata": {
        "id": "nm-fSLGeIYFb"
      },
      "execution_count": null,
      "outputs": []
    }
  ]
}